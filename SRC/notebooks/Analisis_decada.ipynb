{
 "cells": [
  {
   "cell_type": "code",
   "execution_count": 1,
   "metadata": {},
   "outputs": [],
   "source": [
    "import pandas as pd\n",
    "import numpy as np\n",
    "import matplotlib.pyplot as plt\n",
    "import seaborn as sns"
   ]
  },
  {
   "cell_type": "code",
   "execution_count": 2,
   "metadata": {},
   "outputs": [],
   "source": [
    "festivales_bcn_18 = pd.read_pickle(\"../data/festivales_bcn_18_procesado.pkl\")\n",
    "festivales_bcn_19 = pd.read_pickle(\"../data/festivales_bcn_19_procesado.pkl\")\n",
    "festivales_bcn_20 = pd.read_pickle(\"../data/festivales_bcn_20_procesado.pkl\")\n",
    "festivales_bcn_21 = pd.read_pickle(\"../data/festivales_bcn_21_procesado.pkl\")\n",
    "festivales_bcn_22 = pd.read_pickle(\"../data/festivales_bcn_22_procesado.pkl\")\n",
    "festivales_bcn_17 = pd.read_pickle(\"../data/festivales_bcn_17_procesado.pkl\")\n",
    "festivales_bcn_16 = pd.read_pickle(\"../data/festivales_bcn_16_procesado.pkl\")\n",
    "festivales_bcn_15 = pd.read_pickle(\"../data/festivales_bcn_15_procesado.pkl\")\n",
    "festivales_bcn_14 = pd.read_pickle(\"../data/festivales_bcn_14_procesado.pkl\")\n",
    "festivales_bcn_13 = pd.read_pickle(\"../data/festivales_bcn_13_procesado.pkl\")"
   ]
  },
  {
   "cell_type": "code",
   "execution_count": 3,
   "metadata": {},
   "outputs": [],
   "source": [
    "def pinta_distribucion_categoricas(df, columnas_categoricas, relativa=False, mostrar_valores=False):\n",
    "    # Filtra solo las columnas que están en categoricas_destacadas\n",
    "    columnas_categoricas = [col for col in columnas_categoricas if col in categoricas_destacadas]\n",
    "    \n",
    "    num_columnas = 2 \n",
    "    num_filas = (len(columnas_categoricas) + num_columnas - 1) // num_columnas  # Calcula el número de filas necesario\n",
    "\n",
    "    fig, axes = plt.subplots(num_filas, num_columnas, figsize=(15, 5 * num_filas))  # Ajusta el tamaño del subplot\n",
    "    axes = axes.flatten()  # Aplanar el array de axes para un manejo más fácil\n",
    "\n",
    "    for i, col in enumerate(columnas_categoricas):\n",
    "        ax = axes[i]\n",
    "        if isinstance(df[col].iloc[0], list):  # Verificar si el elemento es una lista\n",
    "            temp_df = df.explode(col)\n",
    "        else:\n",
    "            temp_df = df\n",
    "\n",
    "        serie = temp_df[col].value_counts()\n",
    "        if relativa:\n",
    "            total = serie.sum()\n",
    "            serie = serie.apply(lambda x: x / total)\n",
    "            ax.set_ylabel('Frecuencia Relativa')\n",
    "        else:\n",
    "            ax.set_ylabel('Frecuencia')\n",
    "\n",
    "        # Usar la paleta 'viridis' y asignar 'x' a 'hue'\n",
    "        sns.barplot(x=serie.index, y=serie, hue=serie.index, ax=ax, palette='viridis', legend=False)\n",
    "        ax.set_title(f'Distribución de {col}')\n",
    "        ax.set_xlabel('')\n",
    "        ax.tick_params(axis='x', rotation=45)\n",
    "\n",
    "        if mostrar_valores:\n",
    "            for p in ax.patches:\n",
    "                height = p.get_height()\n",
    "                ax.annotate(f'{height:.2f}', (p.get_x() + p.get_width() / 2., height), \n",
    "                            ha='center', va='center', xytext=(0, 9), textcoords='offset points')\n",
    "\n",
    "    for j in range(i + 1, len(axes)):\n",
    "        axes[j].axis('off')  # Ocultar ejes no utilizados\n",
    "\n",
    "    plt.tight_layout()\n",
    "    plt.show()"
   ]
  },
  {
   "cell_type": "code",
   "execution_count": 4,
   "metadata": {},
   "outputs": [],
   "source": [
    "def plot_categorical_relationship_fin(df, cat_col1, cat_col2, relative_freq=False, show_values=False, size_group = 12):\n",
    "    # Prepara los datos\n",
    "    count_data = df.groupby([cat_col1, cat_col2]).size().reset_index(name='count')\n",
    "    total_counts = df[cat_col1].value_counts()\n",
    "    \n",
    "    # Convierte a frecuencias relativas si se solicita\n",
    "    if relative_freq:\n",
    "        count_data['count'] = count_data.apply(lambda x: x['count'] / total_counts[x[cat_col1]], axis=1)\n",
    "\n",
    "    # Si hay más de size_group categorías en cat_col1, las divide en grupos de size_group\n",
    "    unique_categories = df[cat_col1].unique()\n",
    "    if len(unique_categories) > size_group:\n",
    "        num_plots = int(np.ceil(len(unique_categories) / size_group))\n",
    "\n",
    "        for i in range(num_plots):\n",
    "            # Selecciona un subconjunto de categorías para cada gráfico\n",
    "            categories_subset = unique_categories[i * size_group:(i + 1) * size_group]\n",
    "            data_subset = count_data[count_data[cat_col1].isin(categories_subset)]\n",
    "\n",
    "            # Crea el gráfico\n",
    "            plt.figure(figsize=(10, 6))\n",
    "            ax = sns.barplot(x=cat_col1, y='count', hue=cat_col2, data=data_subset, order=categories_subset)\n",
    "\n",
    "            # Añade títulos y etiquetas\n",
    "            plt.title(f'Relación entre {cat_col1} y {cat_col2} - Grupo {i + 1}')\n",
    "            plt.xlabel(cat_col1)\n",
    "            plt.ylabel('Frecuencia' if relative_freq else 'Conteo')\n",
    "            plt.xticks(rotation=45)\n",
    "\n",
    "            # Mostrar valores en el gráfico\n",
    "            if show_values:\n",
    "                for p in ax.patches:\n",
    "                    ax.annotate(f'{p.get_height():.2f}', (p.get_x() + p.get_width() / 2., p.get_height()),\n",
    "                                ha='center', va='center', fontsize=10, color='black', xytext=(0, size_group),\n",
    "                                textcoords='offset points')\n",
    "\n",
    "            # Muestra el gráfico\n",
    "            plt.show()\n",
    "    else:\n",
    "        # Crea el gráfico para menos de size_group categorías\n",
    "        plt.figure(figsize=(10, 6))\n",
    "        ax = sns.barplot(x=cat_col1, y='count', hue=cat_col2, data=count_data)\n",
    "\n",
    "        # Añade títulos y etiquetas\n",
    "        plt.title(f'Relación entre {cat_col1} y {cat_col2}')\n",
    "        plt.xlabel(cat_col1)\n",
    "        plt.ylabel('Frecuencia' if relative_freq else 'Conteo')\n",
    "        plt.xticks(rotation=45)\n",
    "\n",
    "        # Mostrar valores en el gráfico\n",
    "        if show_values:\n",
    "            for p in ax.patches:\n",
    "                ax.annotate(f'{p.get_height():.2f}', (p.get_x() + p.get_width() / 2., p.get_height()),\n",
    "                            ha='center', va='center', fontsize=10, color='black', xytext=(0, size_group),\n",
    "                            textcoords='offset points')\n",
    "\n",
    "        # Muestra el gráfico\n",
    "        plt.show()"
   ]
  },
  {
   "cell_type": "code",
   "execution_count": 5,
   "metadata": {},
   "outputs": [],
   "source": [
    "def plot_categorical_numerical_relationship(df, categorical_col, numerical_col, show_values=False, measure='mean'):\n",
    "    # Calcula la medida de tendencia central (mean o median)\n",
    "    if measure == 'median':\n",
    "        grouped_data = df.groupby(categorical_col)[numerical_col].median()\n",
    "    else:\n",
    "        # Por defecto, usa la media\n",
    "        grouped_data = df.groupby(categorical_col)[numerical_col].mean()\n",
    "\n",
    "    # Ordena los valores\n",
    "    grouped_data = grouped_data.sort_values(ascending=False)\n",
    "\n",
    "    # Si hay más de 5 categorías, las divide en grupos de 5\n",
    "    if grouped_data.shape[0] > 9:\n",
    "        unique_categories = grouped_data.index.unique()\n",
    "        num_plots = int(np.ceil(len(unique_categories) / 9))\n",
    "\n",
    "        for i in range(num_plots):\n",
    "            # Selecciona un subconjunto de categorías para cada gráfico\n",
    "            categories_subset = unique_categories[i * 9:(i + 1) * 9]\n",
    "            data_subset = grouped_data.loc[categories_subset]\n",
    "\n",
    "            # Crea el gráfico\n",
    "            plt.figure(figsize=(10, 6))\n",
    "            ax = sns.barplot(x=data_subset.index, y=data_subset.values)\n",
    "\n",
    "            # Añade títulos y etiquetas\n",
    "            plt.title(f'Relación entre {categorical_col} y {numerical_col} - Grupo {i + 1}')\n",
    "            plt.xlabel(categorical_col)\n",
    "            plt.ylabel(f'{measure.capitalize()} de {numerical_col}')\n",
    "            plt.xticks(rotation=45)\n",
    "\n",
    "            # Mostrar valores en el gráfico\n",
    "            if show_values:\n",
    "                for p in ax.patches:\n",
    "                    ax.annotate(f'{p.get_height():.2f}', (p.get_x() + p.get_width() / 2., p.get_height()),\n",
    "                                ha='center', va='center', fontsize=10, color='black', xytext=(0, 9),\n",
    "                                textcoords='offset points')\n",
    "\n",
    "            # Muestra el gráfico\n",
    "            plt.show()\n",
    "    else:\n",
    "        # Crea el gráfico para menos de 5 categorías\n",
    "        plt.figure(figsize=(10, 6))\n",
    "        ax = sns.barplot(x=grouped_data.index, y=grouped_data.values)\n",
    "\n",
    "        # Añade títulos y etiquetas\n",
    "        plt.title(f'Relación entre {categorical_col} y {numerical_col}')\n",
    "        plt.xlabel(categorical_col)\n",
    "        plt.ylabel(f'{measure.capitalize()} de {numerical_col}')\n",
    "        plt.xticks(rotation=45)\n",
    "\n",
    "        # Mostrar valores en el gráfico\n",
    "        if show_values:\n",
    "            for p in ax.patches:\n",
    "                ax.annotate(f'{p.get_height():.2f}', (p.get_x() + p.get_width() / 2., p.get_height()),\n",
    "                            ha='center', va='center', fontsize=10, color='black', xytext=(0, 5),\n",
    "                            textcoords='offset points')\n",
    "\n",
    "        # Muestra el gráfico\n",
    "        plt.show()"
   ]
  },
  {
   "cell_type": "code",
   "execution_count": 6,
   "metadata": {},
   "outputs": [],
   "source": [
    "def plot_combined_graphs(df, columns, whisker_width=1.5, bins = None):\n",
    "    num_cols = len(columns)\n",
    "    if num_cols:\n",
    "        \n",
    "        fig, axes = plt.subplots(num_cols, 2, figsize=(12, 5 * num_cols))\n",
    "        print(axes.shape)\n",
    "\n",
    "        for i, column in enumerate(columns):\n",
    "            if df[column].dtype in ['int64', 'float64']:\n",
    "                # Histograma y KDE\n",
    "                sns.histplot(df[column], kde=True, ax=axes[i,0] if num_cols > 1 else axes[0], bins= \"auto\" if not bins else bins)\n",
    "                if num_cols > 1:\n",
    "                    axes[i,0].set_title(f'Histograma y KDE de {column}')\n",
    "                else:\n",
    "                    axes[0].set_title(f'Histograma y KDE de {column}')\n",
    "\n",
    "                # Boxplot\n",
    "                sns.boxplot(x=df[column], ax=axes[i,1] if num_cols > 1 else axes[1], whis=whisker_width)\n",
    "                if num_cols > 1:\n",
    "                    axes[i,1].set_title(f'Boxplot de {column}')\n",
    "                else:\n",
    "                    axes[1].set_title(f'Boxplot de {column}')\n",
    "\n",
    "        plt.tight_layout()\n",
    "        plt.show()"
   ]
  },
  {
   "cell_type": "code",
   "execution_count": 7,
   "metadata": {},
   "outputs": [],
   "source": [
    "def plot_grouped_boxplots(df, cat_col, num_col):\n",
    "    unique_cats = df[cat_col].unique()\n",
    "    num_cats = len(unique_cats)\n",
    "    group_size = 12\n",
    "\n",
    "    for i in range(0, num_cats, group_size):\n",
    "        subset_cats = unique_cats[i:i+group_size]\n",
    "        subset_df = df[df[cat_col].isin(subset_cats)]\n",
    "        \n",
    "        plt.figure(figsize=(10, 6))\n",
    "        sns.boxplot(x=cat_col, y=num_col, data=subset_df)\n",
    "        plt.title(f'Boxplots of {num_col} for {cat_col} (Group {i//group_size + 1})')\n",
    "        plt.xticks(rotation=45)\n",
    "        plt.show()"
   ]
  },
  {
   "cell_type": "code",
   "execution_count": 8,
   "metadata": {},
   "outputs": [],
   "source": [
    "def plot_grouped_histograms(df, cat_col, num_col, group_size):\n",
    "    unique_cats = df[cat_col].unique()\n",
    "    num_cats = len(unique_cats)\n",
    "\n",
    "    for i in range(0, num_cats, group_size):\n",
    "        subset_cats = unique_cats[i:i+group_size]\n",
    "        subset_df = df[df[cat_col].isin(subset_cats)]\n",
    "        \n",
    "        plt.figure(figsize=(10, 6))\n",
    "        for cat in subset_cats:\n",
    "            sns.histplot(subset_df[subset_df[cat_col] == cat][num_col], kde=True, label=str(cat))\n",
    "        \n",
    "        plt.title(f'Histograms of {num_col} for {cat_col} (Group {i//group_size + 1})')\n",
    "        plt.xlabel(num_col)\n",
    "        plt.ylabel('Frequency')\n",
    "        plt.legend()\n",
    "        plt.show()"
   ]
  },
  {
   "cell_type": "code",
   "execution_count": 9,
   "metadata": {},
   "outputs": [],
   "source": [
    "def grafico_dispersion_con_correlacion(df, columna_x, columna_y, tamano_puntos=50, mostrar_correlacion=False):\n",
    "    \"\"\"\n",
    "    Crea un diagrama de dispersión entre dos columnas y opcionalmente muestra la correlación.\n",
    "\n",
    "    Args:\n",
    "    df (pandas.DataFrame): DataFrame que contiene los datos.\n",
    "    columna_x (str): Nombre de la columna para el eje X.\n",
    "    columna_y (str): Nombre de la columna para el eje Y.\n",
    "    tamano_puntos (int, opcional): Tamaño de los puntos en el gráfico. Por defecto es 50.\n",
    "    mostrar_correlacion (bool, opcional): Si es True, muestra la correlación en el gráfico. Por defecto es False.\n",
    "    \"\"\"\n",
    "\n",
    "    plt.figure(figsize=(10, 6))\n",
    "    sns.scatterplot(data=df, x=columna_x, y=columna_y, s=tamano_puntos)\n",
    "\n",
    "    if mostrar_correlacion:\n",
    "        correlacion = df[[columna_x, columna_y]].corr().iloc[0, 1]\n",
    "        plt.title(f'Diagrama de Dispersión con Correlación: {correlacion:.2f}')\n",
    "    else:\n",
    "        plt.title('Diagrama de Dispersión')\n",
    "\n",
    "    plt.xlabel(columna_x)\n",
    "    plt.ylabel(columna_y)\n",
    "    plt.grid(True)\n",
    "    plt.show()"
   ]
  },
  {
   "cell_type": "code",
   "execution_count": 10,
   "metadata": {},
   "outputs": [],
   "source": [
    "def bubble_plot(df, col_x, col_y, col_size, scale = 1000):\n",
    "    \"\"\"\n",
    "    Crea un scatter plot usando dos columnas para los ejes X e Y,\n",
    "    y una tercera columna para determinar el tamaño de los puntos.\n",
    "\n",
    "    Args:\n",
    "    df (pd.DataFrame): DataFrame de pandas.\n",
    "    col_x (str): Nombre de la columna para el eje X.\n",
    "    col_y (str): Nombre de la columna para el eje Y.\n",
    "    col_size (str): Nombre de la columna para determinar el tamaño de los puntos.\n",
    "    \"\"\"\n",
    "\n",
    "    # Asegúrate de que los valores de tamaño sean positivos\n",
    "    sizes = (df[col_size] - df[col_size].min() + 1)/scale\n",
    "\n",
    "    plt.scatter(df[col_x], df[col_y], s=sizes)\n",
    "    plt.xlabel(col_x)\n",
    "    plt.ylabel(col_y)\n",
    "    plt.title(f'Burbujas de {col_x} vs {col_y} con Tamaño basado en {col_size}')\n",
    "    plt.show()"
   ]
  },
  {
   "cell_type": "code",
   "execution_count": 11,
   "metadata": {},
   "outputs": [],
   "source": [
    "categoricas_destacadas = [\n",
    "    'Ambit', \n",
    "    'Titularidad', \n",
    "    'Mes', \n",
    "    'Estacion',\n",
    "    \"Entrada\"\n",
    "]"
   ]
  },
  {
   "cell_type": "markdown",
   "metadata": {},
   "source": [
    "## Análisis de la década"
   ]
  },
  {
   "cell_type": "code",
   "execution_count": 12,
   "metadata": {},
   "outputs": [],
   "source": [
    "tablas_festivales = [globals()[f'festivales_bcn_{year}'] for year in range(13, 23)]\n",
    "festivales_decada = pd.concat(tablas_festivales, ignore_index=True)"
   ]
  },
  {
   "cell_type": "code",
   "execution_count": 13,
   "metadata": {},
   "outputs": [
    {
     "data": {
      "text/html": [
       "<div>\n",
       "<style scoped>\n",
       "    .dataframe tbody tr th:only-of-type {\n",
       "        vertical-align: middle;\n",
       "    }\n",
       "\n",
       "    .dataframe tbody tr th {\n",
       "        vertical-align: top;\n",
       "    }\n",
       "\n",
       "    .dataframe thead th {\n",
       "        text-align: right;\n",
       "    }\n",
       "</style>\n",
       "<table border=\"1\" class=\"dataframe\">\n",
       "  <thead>\n",
       "    <tr style=\"text-align: right;\">\n",
       "      <th></th>\n",
       "      <th>0</th>\n",
       "    </tr>\n",
       "  </thead>\n",
       "  <tbody>\n",
       "    <tr>\n",
       "      <th>Ambit</th>\n",
       "      <td>Música</td>\n",
       "    </tr>\n",
       "    <tr>\n",
       "      <th>Titularidad</th>\n",
       "      <td>Privada</td>\n",
       "    </tr>\n",
       "    <tr>\n",
       "      <th>Mes</th>\n",
       "      <td>Junio</td>\n",
       "    </tr>\n",
       "    <tr>\n",
       "      <th>Estacion</th>\n",
       "      <td>Otoño</td>\n",
       "    </tr>\n",
       "    <tr>\n",
       "      <th>Entrada</th>\n",
       "      <td>De Pago</td>\n",
       "    </tr>\n",
       "  </tbody>\n",
       "</table>\n",
       "</div>"
      ],
      "text/plain": [
       "                   0\n",
       "Ambit         Música\n",
       "Titularidad  Privada\n",
       "Mes            Junio\n",
       "Estacion       Otoño\n",
       "Entrada      De Pago"
      ]
     },
     "execution_count": 13,
     "metadata": {},
     "output_type": "execute_result"
    }
   ],
   "source": [
    "festivales_decada[categoricas_destacadas].mode().T"
   ]
  },
  {
   "cell_type": "code",
   "execution_count": 14,
   "metadata": {},
   "outputs": [
    {
     "name": "stdout",
     "output_type": "stream",
     "text": [
      "Ambit\n",
      "Música                         176\n",
      "Audiovisuals                   125\n",
      "Multidisciplinaris i altres     56\n",
      "Arts visuals                    49\n",
      "Arts escèniques                 43\n",
      "Lletres                         32\n",
      "Name: count, dtype: int64\n"
     ]
    }
   ],
   "source": [
    "ambit_counts = festivales_decada['Ambit'].value_counts()\n",
    "print(ambit_counts)"
   ]
  },
  {
   "cell_type": "code",
   "execution_count": 15,
   "metadata": {},
   "outputs": [
    {
     "name": "stdout",
     "output_type": "stream",
     "text": [
      "Titularidad\n",
      "Privada    386\n",
      "Pública     84\n",
      "Mixta       11\n",
      "Name: count, dtype: int64\n"
     ]
    }
   ],
   "source": [
    "titularidad_counts = festivales_decada['Titularidad'].value_counts()\n",
    "print(titularidad_counts)"
   ]
  },
  {
   "cell_type": "code",
   "execution_count": 16,
   "metadata": {},
   "outputs": [
    {
     "name": "stdout",
     "output_type": "stream",
     "text": [
      "Entrada\n",
      "De Pago    349\n",
      "Gratis     104\n",
      "Mixta       28\n",
      "Name: count, dtype: int64\n"
     ]
    }
   ],
   "source": [
    "entrada_counts = festivales_decada['Entrada'].value_counts()\n",
    "print(entrada_counts)"
   ]
  },
  {
   "cell_type": "code",
   "execution_count": 17,
   "metadata": {},
   "outputs": [
    {
     "name": "stdout",
     "output_type": "stream",
     "text": [
      "Mes\n",
      "Junio         75\n",
      "Noviembre     68\n",
      "Octubre       58\n",
      "Julio         53\n",
      "Septiembre    43\n",
      "Enero         43\n",
      "Mayo          42\n",
      "Marzo         34\n",
      "Abril         21\n",
      "Febrero       19\n",
      "Agosto        13\n",
      "Diciembre     12\n",
      "Name: count, dtype: int64\n"
     ]
    }
   ],
   "source": [
    "mes_counts = festivales_decada['Mes'].value_counts()\n",
    "print(mes_counts)"
   ]
  },
  {
   "cell_type": "code",
   "execution_count": 18,
   "metadata": {},
   "outputs": [
    {
     "name": "stdout",
     "output_type": "stream",
     "text": [
      "Estacion\n",
      "Otoño        154\n",
      "Primavera    122\n",
      "Verano       112\n",
      "Invierno      93\n",
      "Name: count, dtype: int64\n"
     ]
    }
   ],
   "source": [
    "estacion_counts = festivales_decada['Estacion'].value_counts()\n",
    "print(estacion_counts)"
   ]
  },
  {
   "cell_type": "code",
   "execution_count": 19,
   "metadata": {},
   "outputs": [
    {
     "data": {
      "text/plain": [
       "Ambit\n",
       "Arts escèniques                3340090.0\n",
       "Arts visuals                   1750964.0\n",
       "Audiovisuals                   1582171.0\n",
       "Lletres                         332631.0\n",
       "Multidisciplinaris i altres    1901330.0\n",
       "Música                         7632453.0\n",
       "Name: Asistentes, dtype: float64"
      ]
     },
     "execution_count": 19,
     "metadata": {},
     "output_type": "execute_result"
    }
   ],
   "source": [
    "total_asistentes = festivales_decada.groupby('Ambit')['Asistentes'].sum()\n",
    "total_asistentes"
   ]
  },
  {
   "cell_type": "code",
   "execution_count": 20,
   "metadata": {},
   "outputs": [
    {
     "data": {
      "text/html": [
       "<div>\n",
       "<style scoped>\n",
       "    .dataframe tbody tr th:only-of-type {\n",
       "        vertical-align: middle;\n",
       "    }\n",
       "\n",
       "    .dataframe tbody tr th {\n",
       "        vertical-align: top;\n",
       "    }\n",
       "\n",
       "    .dataframe thead th {\n",
       "        text-align: right;\n",
       "    }\n",
       "</style>\n",
       "<table border=\"1\" class=\"dataframe\">\n",
       "  <thead>\n",
       "    <tr style=\"text-align: right;\">\n",
       "      <th>Titularidad</th>\n",
       "      <th>Mixta</th>\n",
       "      <th>Privada</th>\n",
       "      <th>Pública</th>\n",
       "    </tr>\n",
       "    <tr>\n",
       "      <th>Ambit</th>\n",
       "      <th></th>\n",
       "      <th></th>\n",
       "      <th></th>\n",
       "    </tr>\n",
       "  </thead>\n",
       "  <tbody>\n",
       "    <tr>\n",
       "      <th>Arts escèniques</th>\n",
       "      <td>0</td>\n",
       "      <td>19</td>\n",
       "      <td>24</td>\n",
       "    </tr>\n",
       "    <tr>\n",
       "      <th>Arts visuals</th>\n",
       "      <td>0</td>\n",
       "      <td>42</td>\n",
       "      <td>7</td>\n",
       "    </tr>\n",
       "    <tr>\n",
       "      <th>Audiovisuals</th>\n",
       "      <td>7</td>\n",
       "      <td>118</td>\n",
       "      <td>0</td>\n",
       "    </tr>\n",
       "    <tr>\n",
       "      <th>Lletres</th>\n",
       "      <td>4</td>\n",
       "      <td>9</td>\n",
       "      <td>19</td>\n",
       "    </tr>\n",
       "    <tr>\n",
       "      <th>Multidisciplinaris i altres</th>\n",
       "      <td>0</td>\n",
       "      <td>39</td>\n",
       "      <td>17</td>\n",
       "    </tr>\n",
       "    <tr>\n",
       "      <th>Música</th>\n",
       "      <td>0</td>\n",
       "      <td>159</td>\n",
       "      <td>17</td>\n",
       "    </tr>\n",
       "  </tbody>\n",
       "</table>\n",
       "</div>"
      ],
      "text/plain": [
       "Titularidad                  Mixta  Privada  Pública\n",
       "Ambit                                               \n",
       "Arts escèniques                  0       19       24\n",
       "Arts visuals                     0       42        7\n",
       "Audiovisuals                     7      118        0\n",
       "Lletres                          4        9       19\n",
       "Multidisciplinaris i altres      0       39       17\n",
       "Música                           0      159       17"
      ]
     },
     "execution_count": 20,
     "metadata": {},
     "output_type": "execute_result"
    }
   ],
   "source": [
    "tabla_contingencia = pd.crosstab(festivales_decada['Ambit'], festivales_decada['Titularidad'])\n",
    "tabla_contingencia"
   ]
  }
 ],
 "metadata": {
  "kernelspec": {
   "display_name": "Python 3",
   "language": "python",
   "name": "python3"
  },
  "language_info": {
   "codemirror_mode": {
    "name": "ipython",
    "version": 3
   },
   "file_extension": ".py",
   "mimetype": "text/x-python",
   "name": "python",
   "nbconvert_exporter": "python",
   "pygments_lexer": "ipython3",
   "version": "3.10.11"
  }
 },
 "nbformat": 4,
 "nbformat_minor": 2
}
