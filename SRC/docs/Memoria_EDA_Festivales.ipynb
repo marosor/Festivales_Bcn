{
 "cells": [
  {
   "cell_type": "markdown",
   "metadata": {
    "vscode": {
     "languageId": "plaintext"
    }
   },
   "source": [
    "![Portada](../images/portada.jpg)"
   ]
  },
  {
   "cell_type": "markdown",
   "metadata": {},
   "source": [
    "MEMORIA"
   ]
  },
  {
   "cell_type": "markdown",
   "metadata": {},
   "source": [
    "# Cómo y cuánto se festivalea en Barcelona\n",
    "### Análisis de datos sobre los festivales artísticos más populares en la Ciudad Condal entre 2013 - 2022"
   ]
  },
  {
   "cell_type": "markdown",
   "metadata": {},
   "source": [
    "## Introducción y problema(s) a resolver"
   ]
  },
  {
   "cell_type": "markdown",
   "metadata": {},
   "source": [
    "En este Análisis Exploratorio de Datos he querido entender el panorama de los **festivales artísticos de la ciudad de Barcelona y su evolución en la década 2013-2022**, teniendo en cuenta una amplia serie de factores, desde estacionalidad a volumen de asistentes.   \n",
    "En particular, he querido contrastar 4 hipótesis sobre la producción y consumo de dichos festivales:  \n",
    "* El sector público programa festivales de ámbitos desatendidos por los programadores privados <br>\n",
    "* La mayoría de los festivales se concentra justo antes y después de los meses de calor y playa <br>\n",
    "* Los festivales gratuitos son los que convocan mayor número de asistentes <br>\n",
    "* En Barcelona ha crecido la tendencia a programar macrofestivales <br>     \n",
    "\n",
    "Además, he aprovechado para observar el impacto de la pandemia en los datos, y la posterior reconfiguración del sector.  \n",
    "\n",
    "\n"
   ]
  },
  {
   "cell_type": "markdown",
   "metadata": {},
   "source": [
    "## Proceso de trabajo y Origen de los datos"
   ]
  },
  {
   "cell_type": "markdown",
   "metadata": {},
   "source": [
    "Los pasos que seguí para la realización de este proyecto fueron:\n",
    "* recolección de datos\n",
    "* procesamiento de datos\n",
    "* análisis de los datos y conclusiones"
   ]
  },
  {
   "cell_type": "markdown",
   "metadata": {},
   "source": [
    "### Recolección de datos"
   ]
  },
  {
   "cell_type": "markdown",
   "metadata": {},
   "source": [
    "Los datos que he usado para el presente EDA son de carácter público, y están disponibles en una serie de webs de las administraciones públicas, tanto del [Ayuntamiento de Barcelona](https://opendata-ajuntament.barcelona.cat/data/es/dataset/dades-festivals), de donde los he tomado, como de las administraciones que la engloban a nivel autonómico y nacional."
   ]
  },
  {
   "cell_type": "markdown",
   "metadata": {},
   "source": [
    "#### Aclaraciones iniciales\n",
    "\n",
    "Creo importante destacar el recorte conceptual a la hora de incluir, o no, determinados eventos incluidos en los datos recogidos.<br><br>\n",
    "En primer lugar, he dejado fuera aquellas entradas que estaban clasificadas como ferias. <br>\n",
    "Y en segundo, dentro delas clasificadas como festivales, he hecho también un recorte a favor de aquellos eventos considerdos festivales en el sentido más próximo a fiesta, y descartando, en cambio, aquellos que por el contrario se acercan más a conferencias o mesas redondas. En consecuencia, una buena parte de los eventos catalogados en la base de datos como festivales de Letras han quedado fuera.<br>\n",
    "También he decidido quitar aquellos eventos consistentes en ciclos, muestras o encuentros de pequeño formato.<br><br>\n",
    "Paralelamente, he realizado un filtro tomando de cada uno de los 10 años de muestra aquellos 50 festivales con mayor número de asistentes y que, además, tuvieran al menos 3 ediciones dentro del período analizado, para evitar incluir casos aislados que pudieran distorcionar la muestra y las conclusiones."
   ]
  },
  {
   "cell_type": "markdown",
   "metadata": {},
   "source": [
    "#### Importación de bibliotecas\n",
    "\n",
    "Para llevar adelante este EDA he recurrido a las siguientes bibliotecas:"
   ]
  },
  {
   "cell_type": "markdown",
   "metadata": {},
   "source": [
    "* pandas\n",
    "* numpy\n",
    "* matplotlib\n",
    "* seaborn"
   ]
  },
  {
   "cell_type": "markdown",
   "metadata": {},
   "source": [
    "### Procesamiento de los datos"
   ]
  },
  {
   "cell_type": "markdown",
   "metadata": {},
   "source": [
    "Luego, he procesado cada una de esas tablas con una serie de funciones para añadir, transformar y eliminar filas, columnas y valores, como se puede observar en el correspondiente notebook [1_preparacion_datos](https://github.com/marosor/Festivales_Bcn/blob/main/SRC/notebooks/Preparacion_datos.ipynb) <BR>"
   ]
  },
  {
   "cell_type": "markdown",
   "metadata": {},
   "source": [
    "En esta etapa, algunas de las principales acciones realizadas han sido:  \n",
    "* eliminar filas que no se corresponde con el concepto de festival adoptado para este EDA\n",
    "* eliminar filas innecesarias para dicho análisis\n",
    "* clasificar la titularidad de cada festival en Pública, Privada o Mixta\n",
    "* calcular el total de asistentes a cada festival\n",
    "* establecer el mes y la estación de cada festival según su fecha de inicio\n",
    "* establecer el tipo de entrada de cada festival como De pago, Gratis y Mixta\n",
    "* realizar ajustes manuales para casos concretos"
   ]
  },
  {
   "cell_type": "markdown",
   "metadata": {},
   "source": [
    "Y luego he creado una tabla global con los festivales en conjunto de toda la década analizada."
   ]
  },
  {
   "cell_type": "markdown",
   "metadata": {},
   "source": [
    "### Análisis de los datos"
   ]
  },
  {
   "cell_type": "markdown",
   "metadata": {},
   "source": [
    "Una vez realizado este primer paso de limpieza general, he pasado al análisis individual e inicial de cada dataframe, cada uno correspondiente a uno de los años de la década analizada, y sobre ellos he realizado prácticamente las mismas opraciones de análisis univariable, que luego me permitieran compararlos y encontrar similitudes y diferencias. <r>\n",
    "De este modo, resulta una colección de 10 notebooks, uno por año para analizar la situación de los festivales en Barcelona en los años [2013](https://github.com/marosor/Festivales_Bcn/blob/main/SRC/notebooks/Analisis_univariable_2013.ipynb), [2014](https://github.com/marosor/Festivales_Bcn/blob/main/SRC/notebooks/Analisis_univariable_2014.ipynb), [2015](https://github.com/marosor/Festivales_Bcn/blob/main/SRC/notebooks/Analisis_univariable_2015.ipynb), [2016](https://github.com/marosor/Festivales_Bcn/blob/main/SRC/notebooks/Analisis_univariable_2016.ipynb), [2017](https://github.com/marosor/Festivales_Bcn/blob/main/SRC/notebooks/Analisis_univariable_2017.ipynb), [2018](https://github.com/marosor/Festivales_Bcn/blob/main/SRC/notebooks/Analisis_univariable_2018.ipynb), [2019](https://github.com/marosor/Festivales_Bcn/blob/main/SRC/notebooks/Analisis_univariable_2019.ipynb), [2020](https://github.com/marosor/Festivales_Bcn/blob/main/SRC/notebooks/Analisis_univariable_2020.ipynb), [2021](https://github.com/marosor/Festivales_Bcn/blob/main/SRC/notebooks/Analisis_univariable_2021.ipynb) y [2022](https://github.com/marosor/Festivales_Bcn/blob/main/SRC/notebooks/Analisis_univariable_2022.ipynb). <BR> <BR> La organización del análisis univariable de cada dataframe / año en un notebook diferente ha hecho más sencillo su análisis, comprensión y posterior comparación, y gracias a esta primera exploración general he podido tener una impresión de qué datos pueden ser relevantes o no para trabajar mis hipótesis, qué detalles resultaban a primera vista sorprendentes o significativos, de qué hilos tirar más adelante, etc.<br>"
   ]
  },
  {
   "cell_type": "markdown",
   "metadata": {},
   "source": [
    "Posteriormente, he creado un nuevo [notebook para el análisis bivariante](https://github.com/marosor/Festivales_Bcn/blob/main/SRC/notebooks/Analisis_bivariable.ipynb), en este caso organizado según criterios de comparación, listando la misma operación para cada uno de los años, con la intencion de poner ahora el énfasis en la evolución de la escena en conjunto. Y al final he combinado todos las tablas anuales para tener los totales de cada una de las variables en la sumatoria de la década."
   ]
  },
  {
   "cell_type": "markdown",
   "metadata": {},
   "source": [
    "### Principales desafíos en el análisis"
   ]
  },
  {
   "cell_type": "markdown",
   "metadata": {},
   "source": [
    "Algunos de los desafíos enfrentados fueron conceptuales, relativos al recorte de festivales que tomaría, o a la definición de macrofestivales. Sin haber una única respuesta objetiva, lo resolví justificando mi decisión sea con datos o con reflexiones.  \n",
    "\n",
    "Otro gran desfío radicó en la homogeneización de los datos disponibles, para lo cual fui creando una serie de funciones descritas más arriba, que luego a su vez integré en una función única para procesar todas las tablas.  \n",
    "\n",
    "Vale mencionar también que al haber tantas variables a considerar, y tantos años de festivales, la parte inicial del análisis se hizo un poco larga y era fácil perderse, y por eso cada año va en un notebook separado. Pero este paso fue necesario como primer punto de contacto general con los datos.   \n",
    "Una vez realizado este análisis inicial, ya el análisis bivariable fue más sencillo y escalerecedor. Al partir de una selección de variables ya conocidas y sus relaciones, ahora ya era más fácil ver, en un mismo notebook, la evolución de una o más variables con el paso del tiempo y tener una imagen dinámica del sector.   \n",
    "Y para acabar, el notebook de [Análisis década](https://github.com/marosor/Festivales_Bcn/blob/main/SRC/notebooks/Analisis_decada.ipynb) fue una especie de colofón previsible a todo este proceso, a modo de resumen sintétioo, y ahora ya como foto estática de la década."
   ]
  },
  {
   "cell_type": "markdown",
   "metadata": {},
   "source": [
    "### Contrastación de las hipótesis"
   ]
  },
  {
   "cell_type": "markdown",
   "metadata": {},
   "source": [
    "Una vez analizadas las diferentes variables año a año por separado, habiéndolas puesto a jugar entre ellas en el bivariante, y ver la foto completa en la década, entonces ya fue el momento de tomar esta información para ir abordando, una a una, cada una de las cuatro hipótesis de trabajo de este EDA. Este análisis se puede consultar en el notebook de [Análisis y Resultados](https://github.com/marosor/Festivales_Bcn/blob/main/SRC/notebooks/Analisis_y_Resultados_EDA_Festivales.ipynb).   \n",
    "De este proceso de contrastar hipótesis se fueron desprendiendo nuevas preguntas de las que creí interesante dar cuenta, y que salen, en cada uno de los cuatro apartados pricipales como \"bonus\".   \n",
    "A continuación expongo las conclusiones de las cuatro hipótesis centrales del presente EDA."
   ]
  },
  {
   "cell_type": "markdown",
   "metadata": {},
   "source": [
    "### Hipótesis I: El sector público programa festivales de ámbitos desatendidos por los programadores privados"
   ]
  },
  {
   "cell_type": "markdown",
   "metadata": {},
   "source": [
    "#### Conclusión hipótesis I:\n",
    "De los datos observados podemos concluir que efectivamente hay una división de ámbitos entre el sector público y el privado, donde el sector público apuesta por llegar a la mayor cantidad de público posible en modelos que generen ingresos, mientras que la administración pública se encarga de sectores o bien minoritarios, como las letras, o bien populares pero de menor rentabilidad, como las artes escénicas.<br>\n",
    "Esto podría responder a políticas culturales públicas de inclusión y diversidad, donde la administración pública busca impulsar y llenar los vacíos que es difícil sostener con modelos de negocio privados."
   ]
  },
  {
   "cell_type": "markdown",
   "metadata": {},
   "source": [
    "### Hipótesis II: La mayoría de los festivales se concentra justo antes y después de los meses de calor y playa"
   ]
  },
  {
   "cell_type": "markdown",
   "metadata": {},
   "source": [
    "#### Conclusión hipótesis II:"
   ]
  },
  {
   "cell_type": "markdown",
   "metadata": {},
   "source": [
    "Se confirma la hipótesis de que en una ciudad turística costera no compiten entre sí dos de los principales reclamos, festivales y playas, por el tiempo y la atención de las personas (y el dinero, al menos en los festivales de entrada de pago). Desde esta óptica tiene sentido que ambas propuestas se turnen y así sean primavera y otoño las temporadas con picos de festivales, tanto en variedad como en cantidad.<br><br>"
   ]
  },
  {
   "cell_type": "markdown",
   "metadata": {},
   "source": [
    "### Hipótesis III: Los festivales gratuitos son los que convocan mayor número de asistentes"
   ]
  },
  {
   "cell_type": "markdown",
   "metadata": {},
   "source": [
    "#### Conclusión hipótesis III"
   ]
  },
  {
   "cell_type": "markdown",
   "metadata": {},
   "source": [
    "Como conclusión, la hipótesis de que los festivales gratuitos convocan más asistentes que los de pago queda desmentida ya que esto solo se cumple de forma relativa en los formatos medianos de menos de 60 mil asistentes, pero cuando se trata de macro eventos, ambas opciones están bastante equilibradas, y la cifra más alta de media corresponde, de hecho, a un festival de pago.  \n",
    "Sí hay que decir que esto no es igual para todo tipo de contenidos. Y así como los asistentes pagan sin dudarlo por ver conciertos, no es lo mismo cuando se trata de teatro u otras disciplinas."
   ]
  },
  {
   "cell_type": "markdown",
   "metadata": {},
   "source": [
    "### Hipótesis IV: En Barcelona ha crecido la tendencia a programar macrofestivales"
   ]
  },
  {
   "cell_type": "markdown",
   "metadata": {},
   "source": [
    "#### Conclusión hipótesis IV"
   ]
  },
  {
   "cell_type": "markdown",
   "metadata": {},
   "source": [
    "En los últimos 10 años el número de macrofestivales casi se ha duplicado. De hecho, este crecimiento se ha concentrado entre 2016 y 2022. Y si bien fueron los que más cayeron (obviamente) durante la pandemia, rápidamente se han vuelto a recuperar. Eso sí, no han consiguido crecer más allá de los niveles de 2018 que es cuando alcanzaron y se estabilizaron en el pico máximo.<br>\n",
    "Curiosamente, en el otro extremo, los festivales pequeños han sido el formato más estable en los últimos 10 años.<br>\n",
    "Los festivales medianos, por su parte, no han conseguido recuperar sus cifras de prepandemia, mientras que los grandes, con la excepción de un pico inusualmente alto en 2019 y posterior caída en picado con la pandemia, sí que muestran un crecimiento sostenido, con cifras máximas al final de la década analizada."
   ]
  }
 ],
 "metadata": {
  "language_info": {
   "name": "python"
  }
 },
 "nbformat": 4,
 "nbformat_minor": 2
}
